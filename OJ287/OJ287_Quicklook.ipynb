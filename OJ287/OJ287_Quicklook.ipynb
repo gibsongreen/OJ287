{
 "cells": [
  {
   "cell_type": "code",
   "execution_count": 1,
   "id": "31aae376",
   "metadata": {},
   "outputs": [],
   "source": [
    "#from IPython.display import Image,HTML\n",
    "from astropy.io import fits as pyfits"
   ]
  },
  {
   "cell_type": "code",
   "execution_count": 2,
   "id": "11c057a1",
   "metadata": {},
   "outputs": [
    {
     "name": "stdout",
     "output_type": "stream",
     "text": [
      "Populating the interactive namespace from numpy and matplotlib\n"
     ]
    }
   ],
   "source": [
    "%pylab inline"
   ]
  },
  {
   "cell_type": "code",
   "execution_count": 3,
   "id": "61b07942",
   "metadata": {},
   "outputs": [],
   "source": [
    "import gt_apps"
   ]
  },
  {
   "cell_type": "code",
   "execution_count": 4,
   "id": "dfdc46ce",
   "metadata": {},
   "outputs": [
    {
     "name": "stdout",
     "output_type": "stream",
     "text": [
      "time -p gtbin evfile=/data/OJ287/Data/OJ287_mktime.fits scfile=NONE outfile=/data/OJ287/Data/OJ287_cmap.fits algorithm=\"CMAP\" ebinalg=\"LOG\" emin=30.0 emax=200000.0 enumbins=0 denergy=0.0 ebinfile=NONE tbinalg=\"LIN\" tstart=549560621.0 tstop=648518403.0 dtime=1728000.0 tbinfile=NONE snratio=0.0 lcemin=0.0 lcemax=0.0 nxpix=400 nypix=400 binsz=0.1 coordsys=\"CEL\" xref=133.7036456 yref=20.10851193 axisrot=0.0 rafield=\"RA\" decfield=\"DEC\" proj=\"AIT\" hpx_ordering_scheme=\"RING\" hpx_order=3 hpx_ebin=yes hpx_region=\"\" evtable=\"EVENTS\" sctable=\"SC_DATA\" efield=\"ENERGY\" tfield=\"TIME\" chatter=2 clobber=yes debug=no gui=no mode=\"ql\"\n",
      "This is gtbin version HEAD\n",
      "gtbin: WARNING: No spacecraft file: EXPOSURE keyword will be set equal to ontime.\n",
      "real 1.23\n",
      "user 0.15\n",
      "sys 0.07\n"
     ]
    }
   ],
   "source": [
    "from gt_apps import counts_map\n",
    "counts_map['evfile'] = '/data/OJ287/Data/OJ287_mktime.fits'\n",
    "counts_map['scfile'] = 'NONE'\n",
    "counts_map['outfile'] = '/data/OJ287/Data/OJ287_cmap.fits'\n",
    "counts_map['algorithm'] = 'CMAP'\n",
    "counts_map['xref'] = 133.7036456\n",
    "counts_map['yref'] = 20.10851193\n",
    "counts_map['coordsys'] = 'CEL'\n",
    "counts_map['nxpix'] = 400\n",
    "counts_map['nypix'] = 400\n",
    "counts_map['binsz'] = 0.1\n",
    "counts_map['axisrot'] = 0.0\n",
    "counts_map['proj'] = 'AIT'\n",
    "counts_map.run()"
   ]
  },
  {
   "cell_type": "code",
   "execution_count": 5,
   "id": "609a66ec",
   "metadata": {},
   "outputs": [],
   "source": [
    "cmap = pyfits.open('/data/OJ287/Data/OJ287_cmap.fits')"
   ]
  },
  {
   "cell_type": "code",
   "execution_count": 6,
   "id": "e73f5dff",
   "metadata": {},
   "outputs": [
    {
     "name": "stdout",
     "output_type": "stream",
     "text": [
      "Filename: /data/OJ287/Data/OJ287_cmap.fits\n",
      "No.    Name      Ver    Type      Cards   Dimensions   Format\n",
      "  0  PRIMARY       1 PrimaryHDU     128   (400, 400)   int32   \n",
      "  1  GTI           1 BinTableHDU     48   17422R x 2C   [D, D]   \n"
     ]
    }
   ],
   "source": [
    "cmap.info()"
   ]
  },
  {
   "cell_type": "markdown",
   "id": "555e831a",
   "metadata": {},
   "source": [
    "imshow(cmap[0].data)"
   ]
  },
  {
   "cell_type": "code",
   "execution_count": 8,
   "id": "07fe2e0c",
   "metadata": {},
   "outputs": [],
   "source": [
    "from gt_apps import filter"
   ]
  },
  {
   "cell_type": "code",
   "execution_count": 9,
   "id": "d3432f51",
   "metadata": {},
   "outputs": [],
   "source": [
    "filter['infile'] = '/data/OJ287/Data/OJ287_mktime.fits'\n",
    "filter['outfile'] = '/data/OJ287/Data/OJ287_1deg.fits'\n",
    "filter['ra'] = 133.7036456\n",
    "filter['dec'] = 20.10851193\n",
    "filter['rad'] = 1.0\n",
    "filter['tmin'] = 'INDEF'\n",
    "filter['tmax'] = 'INDEF'\n",
    "# galactic point source analysis recommendation P8R3\n",
    "# 100-500K MeV, 128 event class\n",
    "filter['emin'] = 100\n",
    "filter['emax'] = 500000\n",
    "filter['zmax'] = 90\n",
    "filter['evclass'] = 128\n",
    "filter['evtype'] = 3"
   ]
  },
  {
   "cell_type": "code",
   "execution_count": 10,
   "id": "b3a94981",
   "metadata": {},
   "outputs": [
    {
     "data": {
      "text/plain": [
       "'time -p gtselect infile=/data/OJ287/Data/OJ287_mktime.fits outfile=/data/OJ287/Data/OJ287_1deg.fits ra=133.7036456 dec=20.10851193 rad=1.0 tmin=\"INDEF\" tmax=\"INDEF\" emin=100.0 emax=500000.0 zmin=0.0 zmax=90.0 evclass=128 evtype=3 convtype=-1 phasemin=0.0 phasemax=1.0 evtable=\"EVENTS\" chatter=2 clobber=yes debug=no gui=no mode=\"ql\"'"
      ]
     },
     "execution_count": 10,
     "metadata": {},
     "output_type": "execute_result"
    }
   ],
   "source": [
    "filter.command()"
   ]
  },
  {
   "cell_type": "code",
   "execution_count": 11,
   "id": "f1dc721f",
   "metadata": {},
   "outputs": [
    {
     "name": "stdout",
     "output_type": "stream",
     "text": [
      "time -p gtselect infile=/data/OJ287/Data/OJ287_mktime.fits outfile=/data/OJ287/Data/OJ287_1deg.fits ra=133.7036456 dec=20.10851193 rad=1.0 tmin=\"INDEF\" tmax=\"INDEF\" emin=100.0 emax=500000.0 zmin=0.0 zmax=90.0 evclass=128 evtype=3 convtype=-1 phasemin=0.0 phasemax=1.0 evtable=\"EVENTS\" chatter=2 clobber=yes debug=no gui=no mode=\"ql\"\n",
      "Done.\n",
      "real 1.03\n",
      "user 0.13\n",
      "sys 0.09\n"
     ]
    }
   ],
   "source": [
    "filter.run()"
   ]
  },
  {
   "cell_type": "code",
   "execution_count": 12,
   "id": "57a77b53",
   "metadata": {},
   "outputs": [],
   "source": [
    "# light curve count maps spectra, need to look into Likelihood Analysis\n",
    "lc_gtselect = pyfits.open('/data/OJ287/Data/OJ287_1deg.fits')"
   ]
  },
  {
   "cell_type": "code",
   "execution_count": 13,
   "id": "bee4d2f5",
   "metadata": {},
   "outputs": [
    {
     "data": {
      "image/png": "[encoded data removed]",
      "text/plain": [
       "<Figure size 432x288 with 1 Axes>"
      ]
     },
     "metadata": {
      "needs_background": "light"
     },
     "output_type": "display_data"
    }
   ],
   "source": [
    "n, bins, patches = hist(lc_gtselect[1].data.field('TIME'), bins=100)"
   ]
  },
  {
   "cell_type": "code",
   "execution_count": 14,
   "id": "6d4251a0",
   "metadata": {},
   "outputs": [],
   "source": [
    "from gt_apps import maketime, evtbin"
   ]
  },
  {
   "cell_type": "code",
   "execution_count": 15,
   "id": "10d44e0d",
   "metadata": {},
   "outputs": [],
   "source": [
    "maketime['scfile'] = '/data/OJ287/Data/SC00.fits'\n",
    "maketime['filter'] = \"(DATA_QUAL==1)&&(LAT_CONFIG==1)\"\n",
    "maketime['roicut'] = 'yes'\n",
    "maketime['evfile'] = '/data/OJ287/Data/OJ287_1deg.fits'\n",
    "maketime['outfile'] = '/data/OJ287/Data/OJ287_1deg_gti.fits'"
   ]
  },
  {
   "cell_type": "code",
   "execution_count": 16,
   "id": "9ce57a50",
   "metadata": {},
   "outputs": [
    {
     "name": "stdout",
     "output_type": "stream",
     "text": [
      "time -p gtmktime scfile=/data/OJ287/Data/SC00.fits sctable=\"SC_DATA\" filter=\"(DATA_QUAL==1)&&(LAT_CONFIG==1)\" roicut=yes evfile=/data/OJ287/Data/OJ287_1deg.fits evtable=\"EVENTS\" outfile=\"/data/OJ287/Data/OJ287_1deg_gti.fits\" apply_filter=yes overwrite=no header_obstimes=yes tstart=0.0 tstop=0.0 gtifile=\"default\" chatter=2 clobber=yes debug=no gui=no mode=\"ql\"\n",
      "real 33.36\n",
      "user 27.77\n",
      "sys 0.41\n"
     ]
    }
   ],
   "source": [
    "maketime.run()"
   ]
  },
  {
   "cell_type": "code",
   "execution_count": 17,
   "id": "25798f0f",
   "metadata": {},
   "outputs": [
    {
     "name": "stdout",
     "output_type": "stream",
     "text": [
      " evfile=/data/MayOJ/data/OJ287_mktime.fits scfile=NONE outfile=/data/MayOJ/data/OJ287_cmap.fits algorithm=\"CMAP\" ebinalg=\"LOG\" emin=30.0 emax=200000.0 enumbins=0 denergy=0.0 ebinfile=NONE tbinalg=\"LIN\" tstart=549560621.0 tstop=648518403.0 dtime=1728000.0 tbinfile=NONE snratio=0.0 lcemin=0.0 lcemax=0.0 nxpix=400 nypix=400 binsz=0.1 coordsys=\"CEL\" xref=133.7036456 yref=20.10851193 axisrot=0.0 rafield=\"RA\" decfield=\"DEC\" proj=\"AIT\" hpx_ordering_scheme=\"RING\" hpx_order=3 hpx_ebin=yes hpx_region=\"\" evtable=\"EVENTS\" sctable=\"SC_DATA\" efield=\"ENERGY\" tfield=\"TIME\" chatter=2 clobber=yes debug=no gui=no mode=\"ql\"\n"
     ]
    }
   ],
   "source": [
    "print(evtbin.pars())"
   ]
  },
  {
   "cell_type": "code",
   "execution_count": 18,
   "id": "976aaedc",
   "metadata": {},
   "outputs": [],
   "source": [
    "evtbin['algorithm'] = 'LC'\n",
    "evtbin['outfile'] = '/data/OJ287/Data/OJ287_1deg_lc.fits'\n",
    "evtbin['evfile'] = '/data/OJ287/Data/OJ287_1deg_gti.fits'\n",
    "evtbin['scfile'] = '/data/OJ287/Data/SC00.fits'\n",
    "evtbin['tbinalg'] = 'LIN'\n",
    "evtbin['tstart'] = 549560621\n",
    "evtbin['tstop'] = 648518403\n",
    "evtbin['dtime'] = 1728000"
   ]
  },
  {
   "cell_type": "code",
   "execution_count": 19,
   "id": "d068bb64",
   "metadata": {},
   "outputs": [
    {
     "name": "stdout",
     "output_type": "stream",
     "text": [
      "time -p gtbin evfile=/data/OJ287/Data/OJ287_1deg_gti.fits scfile=/data/OJ287/Data/SC00.fits outfile=/data/OJ287/Data/OJ287_1deg_lc.fits algorithm=\"LC\" ebinalg=\"LOG\" emin=30.0 emax=200000.0 enumbins=0 denergy=0.0 ebinfile=NONE tbinalg=\"LIN\" tstart=549560621.0 tstop=648518403.0 dtime=1728000.0 tbinfile=NONE snratio=0.0 lcemin=0.0 lcemax=0.0 nxpix=400 nypix=400 binsz=0.1 coordsys=\"CEL\" xref=133.7036456 yref=20.10851193 axisrot=0.0 rafield=\"RA\" decfield=\"DEC\" proj=\"AIT\" hpx_ordering_scheme=\"RING\" hpx_order=3 hpx_ebin=yes hpx_region=\"\" evtable=\"EVENTS\" sctable=\"SC_DATA\" efield=\"ENERGY\" tfield=\"TIME\" chatter=2 clobber=yes debug=no gui=no mode=\"ql\"\n",
      "This is gtbin version HEAD\n",
      "real 2.43\n",
      "user 1.93\n",
      "sys 0.11\n"
     ]
    }
   ],
   "source": [
    "evtbin.run()"
   ]
  },
  {
   "cell_type": "code",
   "execution_count": 20,
   "id": "2342abe6",
   "metadata": {},
   "outputs": [],
   "source": [
    "lc_gtbin = pyfits.open('/data/OJ287/Data/OJ287_1deg_lc.fits')"
   ]
  },
  {
   "cell_type": "code",
   "execution_count": 21,
   "id": "6c389a80",
   "metadata": {},
   "outputs": [
    {
     "data": {
      "text/plain": [
       "<ErrorbarContainer object of 3 artists>"
      ]
     },
     "execution_count": 21,
     "metadata": {},
     "output_type": "execute_result"
    },
    {
     "data": {
      "image/png": "[encoded data removed]",
      "text/plain": [
       "<Figure size 432x288 with 1 Axes>"
      ]
     },
     "metadata": {
      "needs_background": "light"
     },
     "output_type": "display_data"
    }
   ],
   "source": [
    "errorbar((lc_gtbin[1].data.field('TIME')/86400),lc_gtbin[1].data.field('Counts'),yerr=lc_gtbin[1].data.field('Error'))"
   ]
  },
  {
   "cell_type": "code",
   "execution_count": 22,
   "id": "8f354fd3",
   "metadata": {},
   "outputs": [
    {
     "data": {
      "text/plain": [
       "414"
      ]
     },
     "execution_count": 22,
     "metadata": {},
     "output_type": "execute_result"
    }
   ],
   "source": [
    "sum(lc_gtbin[1].data.field('Counts'))"
   ]
  },
  {
   "cell_type": "code",
   "execution_count": 23,
   "id": "f465a99e",
   "metadata": {
    "scrolled": true
   },
   "outputs": [
    {
     "name": "stdout",
     "output_type": "stream",
     "text": [
      "[6370.65533565 6390.65533565 6410.65533565 6430.65533565 6450.65533565\n",
      " 6470.65533565 6490.65533565 6510.65533565 6530.65533565 6550.65533565\n",
      " 6570.65533565 6590.65533565 6610.65533565 6630.65533565 6650.65533565\n",
      " 6670.65533565 6690.65533565 6710.65533565 6730.65533565 6750.65533565\n",
      " 6770.65533565 6790.65533565 6810.65533565 6830.65533565 6850.65533565\n",
      " 6870.65533565 6890.65533565 6910.65533565 6930.65533565 6950.65533565\n",
      " 6970.65533565 6990.65533565 7010.65533565 7030.65533565 7050.65533565\n",
      " 7070.65533565 7090.65533565 7110.65533565 7130.65533565 7150.65533565\n",
      " 7170.65533565 7190.65533565 7210.65533565 7230.65533565 7250.65533565\n",
      " 7270.65533565 7290.65533565 7310.65533565 7330.65533565 7350.65533565\n",
      " 7370.65533565 7390.65533565 7410.65533565 7430.65533565 7450.65533565\n",
      " 7470.65533565 7490.65533565 7503.32768519]\n"
     ]
    }
   ],
   "source": [
    "print(lc_gtbin[1].data.field('TIME')/86400)"
   ]
  },
  {
   "cell_type": "code",
   "execution_count": 29,
   "id": "08da531b",
   "metadata": {},
   "outputs": [
    {
     "ename": "NameError",
     "evalue": "name 'config' is not defined",
     "output_type": "error",
     "traceback": [
      "\u001b[0;31m---------------------------------------------------------------------------\u001b[0m",
      "\u001b[0;31mNameError\u001b[0m                                 Traceback (most recent call last)",
      "\u001b[0;32m<ipython-input-29-d97ad0ac70f5>\u001b[0m in \u001b[0;36m<module>\u001b[0;34m\u001b[0m\n\u001b[1;32m      1\u001b[0m \u001b[0;32mfrom\u001b[0m \u001b[0mfermipy\u001b[0m\u001b[0;34m.\u001b[0m\u001b[0mgtanalysis\u001b[0m \u001b[0;32mimport\u001b[0m \u001b[0mGTAnalysis\u001b[0m\u001b[0;34m\u001b[0m\u001b[0;34m\u001b[0m\u001b[0m\n\u001b[0;32m----> 2\u001b[0;31m \u001b[0mgta\u001b[0m \u001b[0;34m=\u001b[0m \u001b[0mGTAnalysis\u001b[0m\u001b[0;34m(\u001b[0m\u001b[0mconfig\u001b[0m\u001b[0;34m)\u001b[0m\u001b[0;34m\u001b[0m\u001b[0;34m\u001b[0m\u001b[0m\n\u001b[0m\u001b[1;32m      3\u001b[0m \u001b[0mmatplotlib\u001b[0m\u001b[0;34m.\u001b[0m\u001b[0minteractive\u001b[0m\u001b[0;34m(\u001b[0m\u001b[0;32mTrue\u001b[0m\u001b[0;34m)\u001b[0m\u001b[0;34m\u001b[0m\u001b[0;34m\u001b[0m\u001b[0m\n\u001b[1;32m      4\u001b[0m \u001b[0mgta\u001b[0m\u001b[0;34m.\u001b[0m\u001b[0msetup\u001b[0m\u001b[0;34m(\u001b[0m\u001b[0;34m)\u001b[0m\u001b[0;34m\u001b[0m\u001b[0;34m\u001b[0m\u001b[0m\n",
      "\u001b[0;31mNameError\u001b[0m: name 'config' is not defined"
     ]
    }
   ],
   "source": [
    "from fermipy.gtanalysis import GTAnalysis\n",
    "gta = GTAnalysis(config)\n",
    "matplotlib.interactive(True)\n",
    "gta.setup()"
   ]
  },
  {
   "cell_type": "code",
   "execution_count": null,
   "id": "1cdb31a6",
   "metadata": {},
   "outputs": [],
   "source": []
  }
 ],
 "metadata": {
  "kernelspec": {
   "display_name": "Python 3",
   "language": "python",
   "name": "python3"
  },
  "language_info": {
   "codemirror_mode": {
    "name": "ipython",
    "version": 3
   },
   "file_extension": ".py",
   "mimetype": "text/x-python",
   "name": "python",
   "nbconvert_exporter": "python",
   "pygments_lexer": "ipython3",
   "version": "3.7.10"
  }
 },
 "nbformat": 4,
 "nbformat_minor": 5
}

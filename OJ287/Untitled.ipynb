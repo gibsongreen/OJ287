{
 "cells": [
  {
   "cell_type": "code",
   "execution_count": 21,
   "id": "73bb5f11",
   "metadata": {},
   "outputs": [
    {
     "name": "stderr",
     "output_type": "stream",
     "text": [
      "2021-08-18 16:10:39 INFO    GTAnalysis.__init__(): \n",
      "--------------------------------------------------------------------------------\n",
      "fermipy version v1.0.1 \n",
      "ScienceTools version 2.0.8\n"
     ]
    },
    {
     "ename": "Exception",
     "evalue": "No source matching name: oj287",
     "output_type": "error",
     "traceback": [
      "\u001b[0;31m---------------------------------------------------------------------------\u001b[0m",
      "\u001b[0;31mException\u001b[0m                                 Traceback (most recent call last)",
      "\u001b[0;32m<ipython-input-21-699f0001c3f8>\u001b[0m in \u001b[0;36m<module>\u001b[0;34m\u001b[0m\n\u001b[1;32m      1\u001b[0m \u001b[0;32mfrom\u001b[0m \u001b[0mfermipy\u001b[0m\u001b[0;34m.\u001b[0m\u001b[0mgtanalysis\u001b[0m \u001b[0;32mimport\u001b[0m \u001b[0mGTAnalysis\u001b[0m\u001b[0;34m\u001b[0m\u001b[0;34m\u001b[0m\u001b[0m\n\u001b[1;32m      2\u001b[0m \u001b[0;34m\u001b[0m\u001b[0m\n\u001b[0;32m----> 3\u001b[0;31m \u001b[0mgta\u001b[0m \u001b[0;34m=\u001b[0m \u001b[0mGTAnalysis\u001b[0m\u001b[0;34m(\u001b[0m\u001b[0;34m'config.yaml'\u001b[0m\u001b[0;34m,\u001b[0m\u001b[0mlogging\u001b[0m\u001b[0;34m=\u001b[0m\u001b[0;34m{\u001b[0m\u001b[0;34m'verbosity'\u001b[0m \u001b[0;34m:\u001b[0m \u001b[0;36m3\u001b[0m\u001b[0;34m}\u001b[0m\u001b[0;34m)\u001b[0m\u001b[0;34m\u001b[0m\u001b[0;34m\u001b[0m\u001b[0m\n\u001b[0m\u001b[1;32m      4\u001b[0m \u001b[0mgta\u001b[0m\u001b[0;34m.\u001b[0m\u001b[0msetup\u001b[0m\u001b[0;34m(\u001b[0m\u001b[0;34m)\u001b[0m\u001b[0;34m\u001b[0m\u001b[0;34m\u001b[0m\u001b[0m\n",
      "\u001b[0;32m/opt/anaconda/envs/fermi/lib/python3.7/site-packages/fermipy/gtanalysis.py\u001b[0m in \u001b[0;36m__init__\u001b[0;34m(self, config, roi, **kwargs)\u001b[0m\n\u001b[1;32m    349\u001b[0m                                         \u001b[0mconfigs\u001b[0m\u001b[0;34m[\u001b[0m\u001b[0;36m0\u001b[0m\u001b[0;34m]\u001b[0m\u001b[0;34m[\u001b[0m\u001b[0;34m'model'\u001b[0m\u001b[0;34m]\u001b[0m\u001b[0;34m,\u001b[0m\u001b[0;34m\u001b[0m\u001b[0;34m\u001b[0m\u001b[0m\n\u001b[1;32m    350\u001b[0m                                         \u001b[0mfileio\u001b[0m\u001b[0;34m=\u001b[0m\u001b[0mconfigs\u001b[0m\u001b[0;34m[\u001b[0m\u001b[0;36m0\u001b[0m\u001b[0;34m]\u001b[0m\u001b[0;34m[\u001b[0m\u001b[0;34m'fileio'\u001b[0m\u001b[0;34m]\u001b[0m\u001b[0;34m,\u001b[0m\u001b[0;34m\u001b[0m\u001b[0;34m\u001b[0m\u001b[0m\n\u001b[0;32m--> 351\u001b[0;31m                                         coordsys=configs[0]['binning']['coordsys'])\n\u001b[0m\u001b[1;32m    352\u001b[0m         \u001b[0;32melse\u001b[0m\u001b[0;34m:\u001b[0m\u001b[0;34m\u001b[0m\u001b[0;34m\u001b[0m\u001b[0m\n\u001b[1;32m    353\u001b[0m             \u001b[0mself\u001b[0m\u001b[0;34m.\u001b[0m\u001b[0m_roi\u001b[0m \u001b[0;34m=\u001b[0m \u001b[0mroi\u001b[0m\u001b[0;34m\u001b[0m\u001b[0;34m\u001b[0m\u001b[0m\n",
      "\u001b[0;32m/opt/anaconda/envs/fermi/lib/python3.7/site-packages/fermipy/roi_model.py\u001b[0m in \u001b[0;36mcreate\u001b[0;34m(cls, selection, config, **kwargs)\u001b[0m\n\u001b[1;32m   1744\u001b[0m         \u001b[0;32mif\u001b[0m \u001b[0mselection\u001b[0m\u001b[0;34m[\u001b[0m\u001b[0;34m'target'\u001b[0m\u001b[0;34m]\u001b[0m \u001b[0;32mis\u001b[0m \u001b[0;32mnot\u001b[0m \u001b[0;32mNone\u001b[0m\u001b[0;34m:\u001b[0m\u001b[0;34m\u001b[0m\u001b[0;34m\u001b[0m\u001b[0m\n\u001b[1;32m   1745\u001b[0m             return cls.create_from_source(selection['target'],\n\u001b[0;32m-> 1746\u001b[0;31m                                           config, **kwargs)\n\u001b[0m\u001b[1;32m   1747\u001b[0m         \u001b[0;32melse\u001b[0m\u001b[0;34m:\u001b[0m\u001b[0;34m\u001b[0m\u001b[0;34m\u001b[0m\u001b[0m\n\u001b[1;32m   1748\u001b[0m             \u001b[0mtarget_skydir\u001b[0m \u001b[0;34m=\u001b[0m \u001b[0mwcs_utils\u001b[0m\u001b[0;34m.\u001b[0m\u001b[0mget_target_skydir\u001b[0m\u001b[0;34m(\u001b[0m\u001b[0mselection\u001b[0m\u001b[0;34m)\u001b[0m\u001b[0;34m\u001b[0m\u001b[0;34m\u001b[0m\u001b[0m\n",
      "\u001b[0;32m/opt/anaconda/envs/fermi/lib/python3.7/site-packages/fermipy/roi_model.py\u001b[0m in \u001b[0;36mcreate_from_source\u001b[0;34m(cls, name, config, **kwargs)\u001b[0m\n\u001b[1;32m   1775\u001b[0m         roi = cls(config, src_radius=None, src_roiwidth=None,\n\u001b[1;32m   1776\u001b[0m                   srcname=name, **kwargs)\n\u001b[0;32m-> 1777\u001b[0;31m         \u001b[0msrc\u001b[0m \u001b[0;34m=\u001b[0m \u001b[0mroi\u001b[0m\u001b[0;34m.\u001b[0m\u001b[0mget_source_by_name\u001b[0m\u001b[0;34m(\u001b[0m\u001b[0mname\u001b[0m\u001b[0;34m)\u001b[0m\u001b[0;34m\u001b[0m\u001b[0;34m\u001b[0m\u001b[0m\n\u001b[0m\u001b[1;32m   1778\u001b[0m \u001b[0;34m\u001b[0m\u001b[0m\n\u001b[1;32m   1779\u001b[0m         return cls.create_from_position(src.skydir, config,\n",
      "\u001b[0;32m/opt/anaconda/envs/fermi/lib/python3.7/site-packages/fermipy/roi_model.py\u001b[0m in \u001b[0;36mget_source_by_name\u001b[0;34m(self, name)\u001b[0m\n\u001b[1;32m   1812\u001b[0m \u001b[0;34m\u001b[0m\u001b[0m\n\u001b[1;32m   1813\u001b[0m         \"\"\"\n\u001b[0;32m-> 1814\u001b[0;31m         \u001b[0msrcs\u001b[0m \u001b[0;34m=\u001b[0m \u001b[0mself\u001b[0m\u001b[0;34m.\u001b[0m\u001b[0mget_sources_by_name\u001b[0m\u001b[0;34m(\u001b[0m\u001b[0mname\u001b[0m\u001b[0;34m)\u001b[0m\u001b[0;34m\u001b[0m\u001b[0;34m\u001b[0m\u001b[0m\n\u001b[0m\u001b[1;32m   1815\u001b[0m \u001b[0;34m\u001b[0m\u001b[0m\n\u001b[1;32m   1816\u001b[0m         \u001b[0;32mif\u001b[0m \u001b[0mlen\u001b[0m\u001b[0;34m(\u001b[0m\u001b[0msrcs\u001b[0m\u001b[0;34m)\u001b[0m \u001b[0;34m==\u001b[0m \u001b[0;36m1\u001b[0m\u001b[0;34m:\u001b[0m\u001b[0;34m\u001b[0m\u001b[0;34m\u001b[0m\u001b[0m\n",
      "\u001b[0;32m/opt/anaconda/envs/fermi/lib/python3.7/site-packages/fermipy/roi_model.py\u001b[0m in \u001b[0;36mget_sources_by_name\u001b[0;34m(self, name)\u001b[0m\n\u001b[1;32m   1842\u001b[0m             \u001b[0;32mreturn\u001b[0m \u001b[0mlist\u001b[0m\u001b[0;34m(\u001b[0m\u001b[0mself\u001b[0m\u001b[0;34m.\u001b[0m\u001b[0m_src_dict\u001b[0m\u001b[0;34m[\u001b[0m\u001b[0mindex_name\u001b[0m\u001b[0;34m]\u001b[0m\u001b[0;34m)\u001b[0m\u001b[0;34m\u001b[0m\u001b[0;34m\u001b[0m\u001b[0m\n\u001b[1;32m   1843\u001b[0m         \u001b[0;32melse\u001b[0m\u001b[0;34m:\u001b[0m\u001b[0;34m\u001b[0m\u001b[0;34m\u001b[0m\u001b[0m\n\u001b[0;32m-> 1844\u001b[0;31m             \u001b[0;32mraise\u001b[0m \u001b[0mException\u001b[0m\u001b[0;34m(\u001b[0m\u001b[0;34m'No source matching name: '\u001b[0m \u001b[0;34m+\u001b[0m \u001b[0mname\u001b[0m\u001b[0;34m)\u001b[0m\u001b[0;34m\u001b[0m\u001b[0;34m\u001b[0m\u001b[0m\n\u001b[0m\u001b[1;32m   1845\u001b[0m \u001b[0;34m\u001b[0m\u001b[0m\n\u001b[1;32m   1846\u001b[0m     def get_nearby_sources(self, name, distance, min_dist=None,\n",
      "\u001b[0;31mException\u001b[0m: No source matching name: oj287"
     ]
    }
   ],
   "source": [
    "from fermipy.gtanalysis import GTAnalysis\n",
    "\n",
    "gta = GTAnalysis('config.yaml',logging={'verbosity' : 3})\n",
    "gta.setup()"
   ]
  },
  {
   "cell_type": "code",
   "execution_count": 18,
   "id": "fcbe68bc",
   "metadata": {},
   "outputs": [
    {
     "name": "stderr",
     "output_type": "stream",
     "text": [
      "2021-08-18 16:09:28 INFO    GTAnalysis.optimize(): Starting\n",
      "2021-08-18 16:09:29 INFO    GTAnalysis.optimize(): Finished\n",
      "2021-08-18 16:09:29 INFO    GTAnalysis.optimize(): LogLike: 0.000000 Delta-LogLike: 0.000000\n",
      "2021-08-18 16:09:29 INFO    GTAnalysis.optimize(): Execution time: 0.02 s\n"
     ]
    },
    {
     "name": "stdout",
     "output_type": "stream",
     "text": [
      "Joint fit  []\n"
     ]
    }
   ],
   "source": [
    "opt1 = gta.optimize()"
   ]
  },
  {
   "cell_type": "code",
   "execution_count": 19,
   "id": "615890c1",
   "metadata": {},
   "outputs": [
    {
     "data": {
      "text/plain": [
       "{'loglike0': 0.0,\n",
       " 'loglike1': 0.0,\n",
       " 'dloglike': 0.0,\n",
       " 'config': {'npred_threshold': 1.0,\n",
       "  'npred_frac': 0.95,\n",
       "  'shape_ts_threshold': 25.0,\n",
       "  'max_free_sources': 5,\n",
       "  'skip': [],\n",
       "  'optimizer': {'optimizer': 'MINUIT',\n",
       "   'tol': 0.001,\n",
       "   'max_iter': 100,\n",
       "   'init_lambda': 0.0001,\n",
       "   'retries': 3,\n",
       "   'min_fit_quality': 2,\n",
       "   'verbosity': 0}}}"
      ]
     },
     "execution_count": 19,
     "metadata": {},
     "output_type": "execute_result"
    }
   ],
   "source": [
    "opt1"
   ]
  },
  {
   "cell_type": "code",
   "execution_count": 20,
   "id": "3de8a7ce",
   "metadata": {},
   "outputs": [
    {
     "name": "stderr",
     "output_type": "stream",
     "text": [
      "2021-08-18 16:10:17 INFO    GTAnalysis.print_roi(): \n",
      "name                SpatialModel   SpectrumType     offset        ts       npred\n",
      "--------------------------------------------------------------------------------\n",
      "\n"
     ]
    }
   ],
   "source": [
    "gta.print_roi()"
   ]
  },
  {
   "cell_type": "code",
   "execution_count": null,
   "id": "abae9d5e",
   "metadata": {},
   "outputs": [],
   "source": []
  }
 ],
 "metadata": {
  "kernelspec": {
   "display_name": "Python 3",
   "language": "python",
   "name": "python3"
  },
  "language_info": {
   "codemirror_mode": {
    "name": "ipython",
    "version": 3
   },
   "file_extension": ".py",
   "mimetype": "text/x-python",
   "name": "python",
   "nbconvert_exporter": "python",
   "pygments_lexer": "ipython3",
   "version": "3.7.10"
  }
 },
 "nbformat": 4,
 "nbformat_minor": 5
}
